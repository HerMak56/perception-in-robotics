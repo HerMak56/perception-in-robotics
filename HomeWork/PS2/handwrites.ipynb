{
 "cells": [
  {
   "cell_type": "markdown",
   "metadata": {},
   "source": [
    "\n",
    "$Q = \\sigma^2 = 0.35^2 = 0.1225$\n"
   ]
  },
  {
   "cell_type": "markdown",
   "metadata": {},
   "source": [
    "$\n",
    "R_t =\n",
    "\\begin{bmatrix}\n",
    "\\alpha_1 |\\delta_{rot1}| + \\alpha_2 \\delta_{trans}^2 & 0 & 0 \\\\\n",
    "0 & \\alpha_3 \\delta_{trans} + \\alpha_4 (\\delta_{rot1}^2 + \\delta_{rot2}^2) & 0 \\\\\n",
    "0 & 0 & \\alpha_1 |\\delta_{rot2}| + \\alpha_2 \\delta_{trans}^2\n",
    "\\end{bmatrix}\n",
    "$"
   ]
  },
  {
   "cell_type": "markdown",
   "metadata": {},
   "source": [
    "Where:\n",
    "\n",
    "$\n",
    "*\\alpha_1 = 0.05 (\\text{turning noise})\\\\\n",
    "*\\alpha_2 = 0.001 (\\text{movement noise, quadratic dependence})\\\\\n",
    "*\\alpha_3 = 0.05 (\\text{translation noise})\\\\\n",
    "*\\alpha_4 = 0.01 (\\text{noise from errors in turning})\\\\\n",
    "$\n",
    "\n",
    "Substituting: \n",
    "$\n",
    "u = [0, 10, 0]^T :\n",
    "$\n",
    "\n",
    "$\n",
    "R_t =\n",
    "\\begin{bmatrix}\n",
    "\\alpha_1 \\cdot |0| + \\alpha_2 \\cdot 10^2 & 0 & 0 \\\\\n",
    "0 & \\alpha_3 \\cdot 10 + \\alpha_4 \\cdot (0^2 + 0^2) & 0 \\\\\n",
    "0 & 0 & \\alpha_1 \\cdot |0| + \\alpha_2 \\cdot 10^2\n",
    "\\end{bmatrix}\n",
    "$\n",
    "\n",
    "$\n",
    "R_t =\n",
    "\\begin{bmatrix}\n",
    "0.001 \\times 100 & 0 & 0 \\\\\n",
    "0 & 0.05 \\times 10 + 0 & 0 \\\\\n",
    "0 & 0 & 0.001 \\times 100\n",
    "\\end{bmatrix}\n",
    "$\n",
    "\n",
    "$\n",
    "R_t =\n",
    "\\begin{bmatrix}\n",
    "0.1 & 0 & 0 \\\\\n",
    "0 & 0.5 & 0 \\\\\n",
    "0 & 0 & 0.1\n",
    "\\end{bmatrix}\n",
    "$"
   ]
  },
  {
   "cell_type": "markdown",
   "metadata": {},
   "source": [
    "$\n",
    "G_t = \\frac{\\partial g(x_{t-1}, u_t, \\epsilon_t)}{\\partial x_{t-1}} \\Bigg|\n",
    "_{\\mu_{t-1}, \\epsilon_t = 0} = \n",
    "\\begin{bmatrix}\n",
    "1 & 0 & -\\delta_{trans} \\sin(\\theta + \\delta_{rot1}) \\\\\n",
    "0 & 1 & \\delta_{trans} \\cos(\\theta + \\delta_{rot1}) \\\\\n",
    "0 & 0 & 1\n",
    "\\end{bmatrix}\n",
    "$"
   ]
  },
  {
   "cell_type": "markdown",
   "metadata": {},
   "source": [
    "$V_t = \\frac{\\partial g(x_{t-1}, u_t, \\epsilon_t)}{\\partial u_t} \\Bigg| _{\\mu_{t-1}, \\epsilon_t = 0}= \n",
    "\\begin{bmatrix}\n",
    "-\\delta_{trans} \\sin(\\theta + \\delta_{rot1}) & \\cos(\\theta + \\delta_{rot1}) & 0 \\\\\n",
    "\\delta_{trans} \\cos(\\theta + \\delta_{rot1}) & \\sin(\\theta + \\delta_{rot1}) & 0 \\\\\n",
    "1 & 0 & 1\n",
    "\\end{bmatrix}\n",
    "$"
   ]
  },
  {
   "cell_type": "markdown",
   "metadata": {},
   "source": [
    "$\n",
    "H_t = \\frac{\\partial h(x_t)}{\\partial x_t} \n",
    "$\n",
    "\n",
    "$\n",
    "z = h(x_t) = \\text{atan2}(m_y - y, m_x - x) - \\theta\n",
    "$\n",
    "\n",
    "Where:\n",
    "\n",
    "$\n",
    "*\\ (x, y, \\theta)  — \\text{current state of the robot},\\\\\n",
    "*\\ (x_L, y_L)  — \\text{coordinates of the landmark},\\\\\n",
    "*\\ z  — \\text{measured angle to the landmark}.\n",
    "$\n",
    "\n",
    "$\n",
    "H_t =\n",
    "\\begin{bmatrix}\n",
    "\\frac{-(m_y - y)}{(m_x - x)^2 + (m_y - y)^2} & \\frac{(m_x - x)}{(m_x - x)^2 + (m_y - y)^2} & -1\n",
    "\\end{bmatrix}\n",
    "$\n"
   ]
  }
 ],
 "metadata": {
  "language_info": {
   "name": "python"
  }
 },
 "nbformat": 4,
 "nbformat_minor": 2
}
